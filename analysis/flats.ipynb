{
 "cells": [
  {
   "cell_type": "code",
   "execution_count": 1,
   "metadata": {},
   "outputs": [],
   "source": [
    "import pandas as pd\n",
    "import numpy as np"
   ]
  },
  {
   "cell_type": "code",
   "execution_count": 17,
   "metadata": {},
   "outputs": [],
   "source": [
    "flats = pd.read_csv('database.csv',sep=',',dtype='unicode')"
   ]
  },
  {
   "cell_type": "code",
   "execution_count": 18,
   "metadata": {},
   "outputs": [
    {
     "data": {
      "text/plain": [
       "Index(['Building_year', 'Number_of_rooms', '_id', 'active', 'address',\n",
       "       'bathroom_number', 'bathroom_separated', 'ceiling_type',\n",
       "       'central_heating', 'cian_id', 'date_of_adding_to_db', 'date_of_place',\n",
       "       'emergency_condition', 'house_type', 'housing_complex', 'id',\n",
       "       'kitchen_area', 'latitude', 'living_area', 'longitude',\n",
       "       'passengers_elevator_number', 'pic_urls', 'porch_num',\n",
       "       'price_per_house_in_dst', 'price_per_house_in_dst_dynamics',\n",
       "       'price_per_meter_in_dst', 'price_per_meter_in_dst_dynamics',\n",
       "       'price_per_sq_meter', 'price_range', 'purchase_dynamics',\n",
       "       'purchase_price', 'rent_dynamics', 'rent_dynamics_in_dst', 'rent_price',\n",
       "       'rent_price_in_dst', 'room1_square', 'room2_square', 'room3_square',\n",
       "       'seen_as_old', 'service_elevator_number', 'storey_number', 'total_area',\n",
       "       'total_number_views', 'total_price', 'type_of_flat', 'visitors',\n",
       "       'whole_storey_number', 'windows_to_street', 'сeiling_height'],\n",
       "      dtype='object')"
      ]
     },
     "execution_count": 18,
     "metadata": {},
     "output_type": "execute_result"
    }
   ],
   "source": [
    "flats.columns"
   ]
  },
  {
   "cell_type": "code",
   "execution_count": 34,
   "metadata": {},
   "outputs": [
    {
     "data": {
      "text/plain": [
       "Building_year                           0\n",
       "Number_of_rooms                     84337\n",
       "_id                                145864\n",
       "active                             145864\n",
       "address                            127399\n",
       "bathroom_number                     18172\n",
       "bathroom_separated                  18172\n",
       "ceiling_type                        17025\n",
       "central_heating                     16996\n",
       "cian_id                            145864\n",
       "date_of_adding_to_db               145864\n",
       "date_of_place                        6870\n",
       "emergency_condition                 18353\n",
       "house_type                          28548\n",
       "housing_complex                     26695\n",
       "id                                 145864\n",
       "kitchen_area                            0\n",
       "latitude                            80607\n",
       "living_area                             0\n",
       "longitude                           80607\n",
       "passengers_elevator_number           1699\n",
       "pic_urls                           145864\n",
       "porch_num                           17621\n",
       "price_per_house_in_dst              16063\n",
       "price_per_house_in_dst_dynamics     16063\n",
       "price_per_meter_in_dst              16063\n",
       "price_per_meter_in_dst_dynamics     16063\n",
       "price_per_sq_meter                  99589\n",
       "price_range                         19101\n",
       "purchase_dynamics                   16063\n",
       "purchase_price                      16063\n",
       "rent_dynamics                       16063\n",
       "rent_dynamics_in_dst                16063\n",
       "rent_price                          16063\n",
       "rent_price_in_dst                   16063\n",
       "room1_square                         7414\n",
       "room2_square                         2669\n",
       "room3_square                         1148\n",
       "seen_as_old                         29499\n",
       "service_elevator_number              1699\n",
       "storey_number                      145864\n",
       "total_area                          84337\n",
       "total_number_views                   6885\n",
       "total_price                         99589\n",
       "type_of_flat                        21120\n",
       "visitors                             7286\n",
       "whole_storey_number                145864\n",
       "windows_to_street                   10593\n",
       "сeiling_height                       6032\n",
       "city                               127399\n",
       "dtype: int64"
      ]
     },
     "execution_count": 34,
     "metadata": {},
     "output_type": "execute_result"
    }
   ],
   "source": [
    "flats.count()"
   ]
  },
  {
   "cell_type": "markdown",
   "metadata": {},
   "source": [
    "### Count number of adds in a region"
   ]
  },
  {
   "cell_type": "code",
   "execution_count": 19,
   "metadata": {
    "scrolled": true
   },
   "outputs": [],
   "source": [
    "address_df = flats['address'].str.replace(\"[\",\"\").str.replace(\"]\",\"\").str.replace('\"',\"\").str.split(\",\",expand=True)\n",
    "flats['city'] = address_df.iloc[:,0]\n",
    "# msk = flats.loc[address_df.iloc[:,0] == 'Москва']\n",
    "# spb = flats.loc[address_df.iloc[:,0] == 'Санкт-Петербург']\n",
    "# print(\"Number of flats in Moscow: \", msk['address'].count())\n",
    "# print(\"Number of flats in SPb: \", spb['address'].count())"
   ]
  },
  {
   "cell_type": "code",
   "execution_count": 32,
   "metadata": {},
   "outputs": [
    {
     "data": {
      "text/plain": [
       "city\n",
       "Москва                        33583\n",
       "Санкт-Петербург               10082\n",
       "Московская область             9919\n",
       "Краснодарский край             7088\n",
       "Тюменская область              4773\n",
       "                              ...  \n",
       "Калмыкия респ.                   63\n",
       "Еврейская АО                     60\n",
       "Тыва респ.                       17\n",
       "Карачаево-Черкесская респ.        7\n",
       "Ненецкий АО                       2\n",
       "Name: id, Length: 84, dtype: int64"
      ]
     },
     "execution_count": 32,
     "metadata": {},
     "output_type": "execute_result"
    }
   ],
   "source": [
    "flats.groupby('city')['id'].count().sort_values(ascending=False)"
   ]
  },
  {
   "cell_type": "code",
   "execution_count": 33,
   "metadata": {},
   "outputs": [
    {
     "data": {
      "text/plain": [
       "city\n",
       "Москва                        817\n",
       "Московская область            630\n",
       "Санкт-Петербург               489\n",
       "Краснодарский край            458\n",
       "Ленинградская область         320\n",
       "                             ... \n",
       "Тыва респ.                      1\n",
       "Ингушетия респ.                 1\n",
       "Карачаево-Черкесская респ.      1\n",
       "Ненецкий АО                     0\n",
       "Магаданская область             0\n",
       "Name: visitors, Length: 84, dtype: int64"
      ]
     },
     "execution_count": 33,
     "metadata": {},
     "output_type": "execute_result"
    }
   ],
   "source": [
    "flats.groupby('city')['visitors'].count().sort_values(ascending=False)"
   ]
  }
 ],
 "metadata": {
  "kernelspec": {
   "display_name": "Python 3",
   "language": "python",
   "name": "python3"
  },
  "language_info": {
   "codemirror_mode": {
    "name": "ipython",
    "version": 3
   },
   "file_extension": ".py",
   "mimetype": "text/x-python",
   "name": "python",
   "nbconvert_exporter": "python",
   "pygments_lexer": "ipython3",
   "version": "3.7.3"
  }
 },
 "nbformat": 4,
 "nbformat_minor": 2
}
